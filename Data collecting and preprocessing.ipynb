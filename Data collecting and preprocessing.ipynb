{
 "cells": [
  {
   "cell_type": "markdown",
   "id": "ccbacffa",
   "metadata": {},
   "source": [
    "In data collecting stage, we will parse 2 channels via Telegram API.\n",
    "1. t.me/bbbreaking\n",
    "2. t.me/rbc_news\n",
    "\n",
    "After that we will preprocess data to get clear text messages with that we will work in next stages of our resarch."
   ]
  },
  {
   "cell_type": "markdown",
   "id": "18a02deb",
   "metadata": {},
   "source": [
    "NB! To reproduce this code you need Telegram API developer account. We recommend you not to run code frames without it. "
   ]
  },
  {
   "cell_type": "markdown",
   "id": "2f9d3b4b",
   "metadata": {},
   "source": [
    "# Parsing"
   ]
  },
  {
   "cell_type": "code",
   "execution_count": 1,
   "id": "20c02729",
   "metadata": {},
   "outputs": [],
   "source": [
    "from telethon.sync import TelegramClient\n",
    "from telethon.tl.functions.messages import GetHistoryRequest\n",
    "from telethon.tl.functions.contacts import ResolveUsernameRequest\n",
    "import emoji\n",
    "import getpass\n",
    "import pandas as pd\n",
    "from alphabet_detector import AlphabetDetector\n",
    "ad = AlphabetDetector()"
   ]
  },
  {
   "cell_type": "code",
   "execution_count": 31,
   "id": "a4bf2325",
   "metadata": {
    "scrolled": false
   },
   "outputs": [
    {
     "name": "stdout",
     "output_type": "stream",
     "text": [
      "API id ········\n",
      "API hash ········\n",
      "Please enter your phone (or bot token): 79160304255\n",
      "Please enter the code you received: 11567\n",
      "Signed in successfully as Ruslan\n"
     ]
    }
   ],
   "source": [
    "bbbreaking_messages_list = []\n",
    "\n",
    "async with TelegramClient(session = None, api_id=getpass.getpass('API id '), \n",
    "                          api_hash=getpass.getpass('API hash ')) as client:\n",
    "    limit_num = 80000\n",
    "    msgs = await client.get_messages('bbbreaking', limit=limit_num)\n",
    "    for i in range(limit_num):\n",
    "        bbbreaking_messages_list.append(msgs[i].message)"
   ]
  },
  {
   "cell_type": "code",
   "execution_count": 33,
   "id": "18d2e0d0",
   "metadata": {},
   "outputs": [
    {
     "name": "stdout",
     "output_type": "stream",
     "text": [
      "API id ········\n",
      "API hash ········\n",
      "Please enter your phone (or bot token): 79160304255\n",
      "Please enter the code you received: 99927\n",
      "Signed in successfully as Ruslan\n"
     ]
    }
   ],
   "source": [
    "rbcnews_messages_list = []\n",
    "\n",
    "async with TelegramClient(session = None, api_id=getpass.getpass('API id '), \n",
    "                          api_hash=getpass.getpass('API hash ')) as client:\n",
    "    limit_num = 70000\n",
    "    msgs = await client.get_messages('rbc_news', limit=limit_num)\n",
    "    for i in range(limit_num):\n",
    "        rbcnews_messages_list.append(msgs[i].message)"
   ]
  },
  {
   "cell_type": "markdown",
   "id": "9ba6d9d5",
   "metadata": {},
   "source": [
    "# Preprocessing"
   ]
  },
  {
   "cell_type": "code",
   "execution_count": 34,
   "id": "3c52dd7b",
   "metadata": {},
   "outputs": [],
   "source": [
    "def text_normalizer(text):\n",
    "    new_text = []\n",
    "    for message in text:\n",
    "        if message != None and len(message) > 0: # убираем пустые сообщения\n",
    "            for symbol in ('\\n', '\\u200b', '\\xa0', '/', '•', '.', ',', ':', ';', \n",
    "                           '-', '–', '—', '?', '!', '%',\n",
    "                           '\"', '«', '»', '(', ')', '[', ']', '$'):\n",
    "                message = message.replace(symbol, ' ') # убираем знаки пунктуации и разрывы строк\n",
    "            message = message.strip()\n",
    "            message = ''.join(word for word in message if not emoji.is_emoji(word)) # убираем эмоджи\n",
    "            message = ''.join(word for word in message if not word.isdigit()) # убираем цифры\n",
    "            message = ''.join(word for word in message if ad.is_cyrillic(word)) # убираем латинские буквы\n",
    "            new_text.append(message)\n",
    "        \n",
    "    return new_text"
   ]
  },
  {
   "cell_type": "code",
   "execution_count": 38,
   "id": "a6a87a77",
   "metadata": {},
   "outputs": [
    {
     "data": {
      "text/html": [
       "<div>\n",
       "<style scoped>\n",
       "    .dataframe tbody tr th:only-of-type {\n",
       "        vertical-align: middle;\n",
       "    }\n",
       "\n",
       "    .dataframe tbody tr th {\n",
       "        vertical-align: top;\n",
       "    }\n",
       "\n",
       "    .dataframe thead th {\n",
       "        text-align: right;\n",
       "    }\n",
       "</style>\n",
       "<table border=\"1\" class=\"dataframe\">\n",
       "  <thead>\n",
       "    <tr style=\"text-align: right;\">\n",
       "      <th></th>\n",
       "      <th>message</th>\n",
       "    </tr>\n",
       "  </thead>\n",
       "  <tbody>\n",
       "    <tr>\n",
       "      <th>0</th>\n",
       "      <td>Суд в США предписал Трампу выплатить компенсац...</td>\n",
       "    </tr>\n",
       "    <tr>\n",
       "      <th>1</th>\n",
       "      <td>️Суд в США признал Трампа виновным по делу о п...</td>\n",
       "    </tr>\n",
       "    <tr>\n",
       "      <th>2</th>\n",
       "      <td>️Взрывы прогремели в Сумской и Черниговской об...</td>\n",
       "    </tr>\n",
       "    <tr>\n",
       "      <th>3</th>\n",
       "      <td>Агентство Франс Пресс сообщило о гибели своего...</td>\n",
       "    </tr>\n",
       "    <tr>\n",
       "      <th>4</th>\n",
       "      <td>Вторая мировая война завершилась победой США н...</td>\n",
       "    </tr>\n",
       "  </tbody>\n",
       "</table>\n",
       "</div>"
      ],
      "text/plain": [
       "                                             message\n",
       "0  Суд в США предписал Трампу выплатить компенсац...\n",
       "1  ️Суд в США признал Трампа виновным по делу о п...\n",
       "2  ️Взрывы прогремели в Сумской и Черниговской об...\n",
       "3  Агентство Франс Пресс сообщило о гибели своего...\n",
       "4  Вторая мировая война завершилась победой США н..."
      ]
     },
     "execution_count": 38,
     "metadata": {},
     "output_type": "execute_result"
    }
   ],
   "source": [
    "bbbreaking = pd.DataFrame(text_normalizer(bbbreaking_messages_list), columns=['message'])\n",
    "bbbreaking.head()"
   ]
  },
  {
   "cell_type": "code",
   "execution_count": 40,
   "id": "d31a971c",
   "metadata": {},
   "outputs": [
    {
     "data": {
      "text/html": [
       "<div>\n",
       "<style scoped>\n",
       "    .dataframe tbody tr th:only-of-type {\n",
       "        vertical-align: middle;\n",
       "    }\n",
       "\n",
       "    .dataframe tbody tr th {\n",
       "        vertical-align: top;\n",
       "    }\n",
       "\n",
       "    .dataframe thead th {\n",
       "        text-align: right;\n",
       "    }\n",
       "</style>\n",
       "<table border=\"1\" class=\"dataframe\">\n",
       "  <thead>\n",
       "    <tr style=\"text-align: right;\">\n",
       "      <th></th>\n",
       "      <th>message</th>\n",
       "    </tr>\n",
       "  </thead>\n",
       "  <tbody>\n",
       "    <tr>\n",
       "      <th>0</th>\n",
       "      <td>️Экс глава таможни перейдет в Совет Федерации ...</td>\n",
       "    </tr>\n",
       "    <tr>\n",
       "      <th>1</th>\n",
       "      <td>Суд признал Трампа виновным в изнасиловании пи...</td>\n",
       "    </tr>\n",
       "    <tr>\n",
       "      <th>2</th>\n",
       "      <td>В Москве дают салют в честь  й годовщины побед...</td>\n",
       "    </tr>\n",
       "    <tr>\n",
       "      <th>3</th>\n",
       "      <td>ЕС могут включить в новый пакет санкций компан...</td>\n",
       "    </tr>\n",
       "    <tr>\n",
       "      <th>4</th>\n",
       "      <td>В Белгородской области под обстрел снова попал...</td>\n",
       "    </tr>\n",
       "  </tbody>\n",
       "</table>\n",
       "</div>"
      ],
      "text/plain": [
       "                                             message\n",
       "0  ️Экс глава таможни перейдет в Совет Федерации ...\n",
       "1  Суд признал Трампа виновным в изнасиловании пи...\n",
       "2  В Москве дают салют в честь  й годовщины побед...\n",
       "3  ЕС могут включить в новый пакет санкций компан...\n",
       "4  В Белгородской области под обстрел снова попал..."
      ]
     },
     "execution_count": 40,
     "metadata": {},
     "output_type": "execute_result"
    }
   ],
   "source": [
    "rbc_news = pd.DataFrame(text_normalizer(rbcnews_messages_list), columns=['message'])\n",
    "rbc_news.head()"
   ]
  },
  {
   "cell_type": "code",
   "execution_count": null,
   "id": "99424b10",
   "metadata": {},
   "outputs": [],
   "source": []
  }
 ],
 "metadata": {
  "kernelspec": {
   "display_name": "Python 3 (ipykernel)",
   "language": "python",
   "name": "python3"
  },
  "language_info": {
   "codemirror_mode": {
    "name": "ipython",
    "version": 3
   },
   "file_extension": ".py",
   "mimetype": "text/x-python",
   "name": "python",
   "nbconvert_exporter": "python",
   "pygments_lexer": "ipython3",
   "version": "3.8.8"
  }
 },
 "nbformat": 4,
 "nbformat_minor": 5
}
